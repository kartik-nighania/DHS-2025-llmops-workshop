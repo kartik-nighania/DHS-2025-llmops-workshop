{
 "cells": [
  {
   "cell_type": "code",
   "execution_count": 18,
   "id": "63edff5a-724b-474d-9db8-37f0ae936c76",
   "metadata": {
    "execution": {
     "iopub.execute_input": "2025-08-22T19:57:55.196525Z",
     "iopub.status.busy": "2025-08-22T19:57:55.196239Z",
     "iopub.status.idle": "2025-08-22T19:57:55.803366Z",
     "shell.execute_reply": "2025-08-22T19:57:55.802345Z",
     "shell.execute_reply.started": "2025-08-22T19:57:55.196504Z"
    },
    "scrolled": true
   },
   "outputs": [
    {
     "name": "stdout",
     "output_type": "stream",
     "text": [
      "\u001b[31mERROR: Could not open requirements file: [Errno 2] No such file or directory: './requirements.txt'\u001b[0m\u001b[31m\n",
      "\u001b[0mNote: you may need to restart the kernel to use updated packages.\n"
     ]
    }
   ],
   "source": [
    "%pip install -r ./requirements.txt"
   ]
  },
  {
   "cell_type": "markdown",
   "id": "a235b194-47b1-4c4b-90a5-c6116ea9d792",
   "metadata": {},
   "source": [
    "## Create .env file"
   ]
  },
  {
   "cell_type": "code",
   "execution_count": 16,
   "id": "3a8454dc-8a32-4c76-b9b6-ece8f1b36e1b",
   "metadata": {
    "execution": {
     "iopub.execute_input": "2025-08-22T17:57:29.675177Z",
     "iopub.status.busy": "2025-08-22T17:57:29.674785Z",
     "iopub.status.idle": "2025-08-22T17:57:29.681166Z",
     "shell.execute_reply": "2025-08-22T17:57:29.680269Z",
     "shell.execute_reply.started": "2025-08-22T17:57:29.675145Z"
    }
   },
   "outputs": [
    {
     "name": "stdout",
     "output_type": "stream",
     "text": [
      "Your unique ID: 7l4srb9\n"
     ]
    }
   ],
   "source": [
    "import string\n",
    "import random\n",
    "\n",
    "def generate_7char_id():\n",
    "    \"\"\"Generate a 7-character alphanumeric ID\"\"\"\n",
    "    chars = string.ascii_lowercase + string.digits\n",
    "    return ''.join(random.choices(chars, k=7))\n",
    "\n",
    "\n",
    "unique_id = generate_7char_id()\n",
    "print(f\"Your unique ID: {unique_id}\")"
   ]
  },
  {
   "cell_type": "code",
   "execution_count": 17,
   "id": "8e3b0076-abd5-4ec3-a297-4f5576113693",
   "metadata": {
    "execution": {
     "iopub.execute_input": "2025-08-22T17:57:29.829778Z",
     "iopub.status.busy": "2025-08-22T17:57:29.829172Z",
     "iopub.status.idle": "2025-08-22T17:57:29.837961Z",
     "shell.execute_reply": "2025-08-22T17:57:29.836804Z",
     "shell.execute_reply.started": "2025-08-22T17:57:29.829744Z"
    }
   },
   "outputs": [
    {
     "name": "stdout",
     "output_type": "stream",
     "text": [
      "✅ Created .env file with UID: 7l4srb9\n"
     ]
    }
   ],
   "source": [
    "# Write .env file with Python\n",
    "env_content = f\"\"\"\n",
    "LANGSMITH_TRACING=true\n",
    "LANGSMITH_ENDPOINT=\"https://api.smith.langchain.com\"\n",
    "LANGSMITH_PROJECT=\"agentic-ops\"\n",
    "OPENAI_MODEL=\"gpt-4.1\"\n",
    "EMBEDDING_MODEL=\"text-embedding-3-large\"\n",
    "S3_WORKSHOP_BUCKET=\"sagemaker-dhs-2025-llmops-workshop\"\n",
    "AWS_SM_DOMAIN_ARN=\"arn:aws:sagemaker:ap-south-1:009676737623:domain/d-yyezfeiz1rys\"\n",
    "UID={unique_id}\n",
    "\n",
    "LANGSMITH_API_KEY=\"\"\n",
    "OPENAI_API_KEY=\"\"\n",
    "HF_TOKEN=\"\"\n",
    "\"\"\"\n",
    "\n",
    "# Write to file\n",
    "with open('./.env', 'w') as f:\n",
    "    f.write(env_content)\n",
    "\n",
    "print(f\"✅ Created .env file with UID: {unique_id}\")"
   ]
  },
  {
   "cell_type": "code",
   "execution_count": null,
   "id": "0e425df7-b399-4ebf-be47-3b862e32da15",
   "metadata": {},
   "outputs": [],
   "source": []
  }
 ],
 "metadata": {
  "kernelspec": {
   "display_name": "Python 3 (ipykernel)",
   "language": "python",
   "name": "python3"
  },
  "language_info": {
   "codemirror_mode": {
    "name": "ipython",
    "version": 3
   },
   "file_extension": ".py",
   "mimetype": "text/x-python",
   "name": "python",
   "nbconvert_exporter": "python",
   "pygments_lexer": "ipython3",
   "version": "3.12.9"
  }
 },
 "nbformat": 4,
 "nbformat_minor": 5
}
