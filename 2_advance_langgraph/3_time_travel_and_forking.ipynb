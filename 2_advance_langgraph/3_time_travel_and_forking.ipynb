{
 "cells": [
  {
   "cell_type": "code",
   "execution_count": 1,
   "id": "67cef5e8",
   "metadata": {
    "execution": {
     "iopub.execute_input": "2025-08-22T20:34:41.958961Z",
     "iopub.status.busy": "2025-08-22T20:34:41.958743Z",
     "iopub.status.idle": "2025-08-22T20:34:41.967525Z",
     "shell.execute_reply": "2025-08-22T20:34:41.966912Z",
     "shell.execute_reply.started": "2025-08-22T20:34:41.958942Z"
    }
   },
   "outputs": [
    {
     "name": "stdout",
     "output_type": "stream",
     "text": [
      "True\n"
     ]
    }
   ],
   "source": [
    "from dotenv import load_dotenv\n",
    "import os\n",
    "print(load_dotenv('../.env'))"
   ]
  },
  {
   "cell_type": "code",
   "execution_count": 2,
   "id": "b94d1a90-2fe3-4b2a-a901-3bdb89e37edc",
   "metadata": {
    "execution": {
     "iopub.execute_input": "2025-08-22T20:34:41.968489Z",
     "iopub.status.busy": "2025-08-22T20:34:41.968270Z",
     "iopub.status.idle": "2025-08-22T20:34:43.355077Z",
     "shell.execute_reply": "2025-08-22T20:34:43.354397Z",
     "shell.execute_reply.started": "2025-08-22T20:34:41.968469Z"
    }
   },
   "outputs": [],
   "source": [
    "from langchain_openai import ChatOpenAI\n",
    "\n",
    "def multiply(a: int, b: int) -> int:\n",
    "    \"\"\"Multiply a and b.\n",
    "\n",
    "    Args:\n",
    "        a: first int\n",
    "        b: second int\n",
    "    \"\"\"\n",
    "    return a * b\n",
    "\n",
    "# This will be a tool\n",
    "def add(a: int, b: int) -> int:\n",
    "    \"\"\"Adds a and b.\n",
    "\n",
    "    Args:\n",
    "        a: first int\n",
    "        b: second int\n",
    "    \"\"\"\n",
    "    return a + b\n",
    "\n",
    "def divide(a: int, b: int) -> float:\n",
    "    \"\"\"Divide a by b.\n",
    "\n",
    "    Args:\n",
    "        a: first int\n",
    "        b: second int\n",
    "    \"\"\"\n",
    "    return a / b\n",
    "\n",
    "tools = [add, multiply, divide]\n",
    "llm = ChatOpenAI(model=os.environ[\"OPENAI_MODEL\"])\n",
    "llm_with_tools = llm.bind_tools(tools)"
   ]
  },
  {
   "cell_type": "code",
   "execution_count": 3,
   "id": "ac06feae-d12b-490b-95e7-38cf40b74202",
   "metadata": {
    "execution": {
     "iopub.execute_input": "2025-08-22T20:34:46.841147Z",
     "iopub.status.busy": "2025-08-22T20:34:46.840826Z",
     "iopub.status.idle": "2025-08-22T20:34:46.943954Z",
     "shell.execute_reply": "2025-08-22T20:34:46.942635Z",
     "shell.execute_reply.started": "2025-08-22T20:34:46.841126Z"
    }
   },
   "outputs": [
    {
     "data": {
      "image/png": "[encoded data removed]",
      "text/plain": [
       "<IPython.core.display.Image object>"
      ]
     },
     "metadata": {},
     "output_type": "display_data"
    }
   ],
   "source": [
    "from IPython.display import Image, display\n",
    "\n",
    "from langgraph.checkpoint.memory import MemorySaver\n",
    "from langgraph.graph import MessagesState\n",
    "from langgraph.graph import START, END, StateGraph\n",
    "from langgraph.prebuilt import tools_condition, ToolNode\n",
    "\n",
    "from langchain_core.messages import AIMessage, HumanMessage, SystemMessage\n",
    "\n",
    "# System message\n",
    "sys_msg = SystemMessage(content=\"You are a helpful assistant tasked with performing arithmetic on a set of inputs.\")\n",
    "\n",
    "# Node\n",
    "def assistant(state: MessagesState):\n",
    "   return {\"messages\": [llm_with_tools.invoke([sys_msg] + state[\"messages\"])]}\n",
    "\n",
    "# Graph\n",
    "builder = StateGraph(MessagesState)\n",
    "\n",
    "# Define nodes: these do the work\n",
    "builder.add_node(\"assistant\", assistant)\n",
    "builder.add_node(\"tools\", ToolNode(tools))\n",
    "\n",
    "# Define edges: these determine the control flow\n",
    "builder.add_edge(START, \"assistant\")\n",
    "builder.add_conditional_edges(\n",
    "    \"assistant\",\n",
    "    # If the latest message (result) from assistant is a tool call -> tools_condition routes to tools\n",
    "    # If the latest message (result) from assistant is a not a tool call -> tools_condition routes to END\n",
    "    tools_condition,\n",
    ")\n",
    "builder.add_edge(\"tools\", \"assistant\")\n",
    "\n",
    "memory = MemorySaver()\n",
    "graph = builder.compile(checkpointer=MemorySaver())\n",
    "\n",
    "# Show\n",
    "display(Image(graph.get_graph(xray=True).draw_mermaid_png()))"
   ]
  },
  {
   "cell_type": "code",
   "execution_count": 4,
   "id": "a783efac-46a9-4fb4-a1c6-a11b02540448",
   "metadata": {
    "execution": {
     "iopub.execute_input": "2025-08-22T20:34:51.800855Z",
     "iopub.status.busy": "2025-08-22T20:34:51.800533Z",
     "iopub.status.idle": "2025-08-22T20:34:53.577321Z",
     "shell.execute_reply": "2025-08-22T20:34:53.576496Z",
     "shell.execute_reply.started": "2025-08-22T20:34:51.800832Z"
    }
   },
   "outputs": [
    {
     "name": "stdout",
     "output_type": "stream",
     "text": [
      "================================\u001b[1m Human Message \u001b[0m=================================\n",
      "\n",
      "Multiply 2 and 3\n",
      "==================================\u001b[1m Ai Message \u001b[0m==================================\n",
      "Tool Calls:\n",
      "  multiply (call_UkJ5aIBccjXCqRw0b2H7ZfZG)\n",
      " Call ID: call_UkJ5aIBccjXCqRw0b2H7ZfZG\n",
      "  Args:\n",
      "    a: 2\n",
      "    b: 3\n",
      "=================================\u001b[1m Tool Message \u001b[0m=================================\n",
      "Name: multiply\n",
      "\n",
      "6\n",
      "==================================\u001b[1m Ai Message \u001b[0m==================================\n",
      "\n",
      "2 multiplied by 3 equals 6.\n"
     ]
    }
   ],
   "source": [
    "# Input\n",
    "initial_input = {\"messages\": HumanMessage(content=\"Multiply 2 and 3\")}\n",
    "\n",
    "# Thread\n",
    "thread = {\"configurable\": {\"thread_id\": \"1\"}}\n",
    "\n",
    "# Run the graph until the first interruption\n",
    "for event in graph.stream(initial_input, thread, stream_mode=\"values\"):\n",
    "    event['messages'][-1].pretty_print()"
   ]
  },
  {
   "cell_type": "code",
   "execution_count": 5,
   "id": "61569596-8342-4a37-9c99-e3a9dccb18ee",
   "metadata": {
    "execution": {
     "iopub.execute_input": "2025-08-22T20:34:54.752331Z",
     "iopub.status.busy": "2025-08-22T20:34:54.750551Z",
     "iopub.status.idle": "2025-08-22T20:34:54.760254Z",
     "shell.execute_reply": "2025-08-22T20:34:54.759409Z",
     "shell.execute_reply.started": "2025-08-22T20:34:54.752294Z"
    }
   },
   "outputs": [
    {
     "data": {
      "text/plain": [
       "StateSnapshot(values={'messages': [HumanMessage(content='Multiply 2 and 3', additional_kwargs={}, response_metadata={}, id='a99d59c1-5c67-4fff-86e5-ec37b513a0d8'), AIMessage(content='', additional_kwargs={'tool_calls': [{'id': 'call_UkJ5aIBccjXCqRw0b2H7ZfZG', 'function': {'arguments': '{\"a\":2,\"b\":3}', 'name': 'multiply'}, 'type': 'function'}], 'refusal': None}, response_metadata={'token_usage': {'completion_tokens': 17, 'prompt_tokens': 131, 'total_tokens': 148, 'completion_tokens_details': {'accepted_prediction_tokens': 0, 'audio_tokens': 0, 'reasoning_tokens': 0, 'rejected_prediction_tokens': 0}, 'prompt_tokens_details': {'audio_tokens': 0, 'cached_tokens': 0}}, 'model_name': 'gpt-4.1-2025-04-14', 'system_fingerprint': 'fp_daf5fcc80a', 'id': 'chatcmpl-C7SlITC3MZP7tafmrnY1DRcOq8tvQ', 'service_tier': 'default', 'finish_reason': 'tool_calls', 'logprobs': None}, id='run--681d5284-53d6-49b8-87e9-d99a291c9acb-0', tool_calls=[{'name': 'multiply', 'args': {'a': 2, 'b': 3}, 'id': 'call_UkJ5aIBccjXCqRw0b2H7ZfZG', 'type': 'tool_call'}], usage_metadata={'input_tokens': 131, 'output_tokens': 17, 'total_tokens': 148, 'input_token_details': {'audio': 0, 'cache_read': 0}, 'output_token_details': {'audio': 0, 'reasoning': 0}}), ToolMessage(content='6', name='multiply', id='e303a669-7029-43f3-bd8d-9ab198a4efa9', tool_call_id='call_UkJ5aIBccjXCqRw0b2H7ZfZG'), AIMessage(content='2 multiplied by 3 equals 6.', additional_kwargs={'refusal': None}, response_metadata={'token_usage': {'completion_tokens': 10, 'prompt_tokens': 156, 'total_tokens': 166, 'completion_tokens_details': {'accepted_prediction_tokens': 0, 'audio_tokens': 0, 'reasoning_tokens': 0, 'rejected_prediction_tokens': 0}, 'prompt_tokens_details': {'audio_tokens': 0, 'cached_tokens': 0}}, 'model_name': 'gpt-4.1-2025-04-14', 'system_fingerprint': 'fp_daf5fcc80a', 'id': 'chatcmpl-C7SlJEj4KmfqGeJvvwFi8JfZdt2OZ', 'service_tier': 'default', 'finish_reason': 'stop', 'logprobs': None}, id='run--004377cc-6e77-4a03-89dd-102683cabd23-0', usage_metadata={'input_tokens': 156, 'output_tokens': 10, 'total_tokens': 166, 'input_token_details': {'audio': 0, 'cache_read': 0}, 'output_token_details': {'audio': 0, 'reasoning': 0}})]}, next=(), config={'configurable': {'thread_id': '1', 'checkpoint_ns': '', 'checkpoint_id': '1f07f977-572a-6d12-8003-4a7ea421772b'}}, metadata={'source': 'loop', 'step': 3, 'parents': {}}, created_at='2025-08-22T20:34:53.572418+00:00', parent_config={'configurable': {'thread_id': '1', 'checkpoint_ns': '', 'checkpoint_id': '1f07f977-4f09-67f1-8002-9cd75d2401b3'}}, tasks=(), interrupts=())"
      ]
     },
     "execution_count": 5,
     "metadata": {},
     "output_type": "execute_result"
    }
   ],
   "source": [
    "state = graph.get_state(thread)\n",
    "state"
   ]
  },
  {
   "cell_type": "markdown",
   "id": "14c16bac-6ae7-44d2-9d4c-60fa927c75c9",
   "metadata": {},
   "source": [
    "## Look at all the history"
   ]
  },
  {
   "cell_type": "code",
   "execution_count": 6,
   "id": "ff06d0c5-350a-4e3e-a44b-524405018231",
   "metadata": {
    "execution": {
     "iopub.execute_input": "2025-08-22T20:35:02.482497Z",
     "iopub.status.busy": "2025-08-22T20:35:02.482193Z",
     "iopub.status.idle": "2025-08-22T20:35:02.488166Z",
     "shell.execute_reply": "2025-08-22T20:35:02.487425Z",
     "shell.execute_reply.started": "2025-08-22T20:35:02.482476Z"
    }
   },
   "outputs": [
    {
     "data": {
      "text/plain": [
       "StateSnapshot(values={'messages': [HumanMessage(content='Multiply 2 and 3', additional_kwargs={}, response_metadata={}, id='a99d59c1-5c67-4fff-86e5-ec37b513a0d8'), AIMessage(content='', additional_kwargs={'tool_calls': [{'id': 'call_UkJ5aIBccjXCqRw0b2H7ZfZG', 'function': {'arguments': '{\"a\":2,\"b\":3}', 'name': 'multiply'}, 'type': 'function'}], 'refusal': None}, response_metadata={'token_usage': {'completion_tokens': 17, 'prompt_tokens': 131, 'total_tokens': 148, 'completion_tokens_details': {'accepted_prediction_tokens': 0, 'audio_tokens': 0, 'reasoning_tokens': 0, 'rejected_prediction_tokens': 0}, 'prompt_tokens_details': {'audio_tokens': 0, 'cached_tokens': 0}}, 'model_name': 'gpt-4.1-2025-04-14', 'system_fingerprint': 'fp_daf5fcc80a', 'id': 'chatcmpl-C7SlITC3MZP7tafmrnY1DRcOq8tvQ', 'service_tier': 'default', 'finish_reason': 'tool_calls', 'logprobs': None}, id='run--681d5284-53d6-49b8-87e9-d99a291c9acb-0', tool_calls=[{'name': 'multiply', 'args': {'a': 2, 'b': 3}, 'id': 'call_UkJ5aIBccjXCqRw0b2H7ZfZG', 'type': 'tool_call'}], usage_metadata={'input_tokens': 131, 'output_tokens': 17, 'total_tokens': 148, 'input_token_details': {'audio': 0, 'cache_read': 0}, 'output_token_details': {'audio': 0, 'reasoning': 0}}), ToolMessage(content='6', name='multiply', id='e303a669-7029-43f3-bd8d-9ab198a4efa9', tool_call_id='call_UkJ5aIBccjXCqRw0b2H7ZfZG'), AIMessage(content='2 multiplied by 3 equals 6.', additional_kwargs={'refusal': None}, response_metadata={'token_usage': {'completion_tokens': 10, 'prompt_tokens': 156, 'total_tokens': 166, 'completion_tokens_details': {'accepted_prediction_tokens': 0, 'audio_tokens': 0, 'reasoning_tokens': 0, 'rejected_prediction_tokens': 0}, 'prompt_tokens_details': {'audio_tokens': 0, 'cached_tokens': 0}}, 'model_name': 'gpt-4.1-2025-04-14', 'system_fingerprint': 'fp_daf5fcc80a', 'id': 'chatcmpl-C7SlJEj4KmfqGeJvvwFi8JfZdt2OZ', 'service_tier': 'default', 'finish_reason': 'stop', 'logprobs': None}, id='run--004377cc-6e77-4a03-89dd-102683cabd23-0', usage_metadata={'input_tokens': 156, 'output_tokens': 10, 'total_tokens': 166, 'input_token_details': {'audio': 0, 'cache_read': 0}, 'output_token_details': {'audio': 0, 'reasoning': 0}})]}, next=(), config={'configurable': {'thread_id': '1', 'checkpoint_ns': '', 'checkpoint_id': '1f07f977-572a-6d12-8003-4a7ea421772b'}}, metadata={'source': 'loop', 'step': 3, 'parents': {}}, created_at='2025-08-22T20:34:53.572418+00:00', parent_config={'configurable': {'thread_id': '1', 'checkpoint_ns': '', 'checkpoint_id': '1f07f977-4f09-67f1-8002-9cd75d2401b3'}}, tasks=(), interrupts=())"
      ]
     },
     "execution_count": 6,
     "metadata": {},
     "output_type": "execute_result"
    }
   ],
   "source": [
    "graph.get_state({'configurable': {'thread_id': '1'}})"
   ]
  },
  {
   "cell_type": "code",
   "execution_count": 7,
   "id": "72b08c92-4782-4768-a442-877686ad56b9",
   "metadata": {
    "execution": {
     "iopub.execute_input": "2025-08-22T20:35:04.668486Z",
     "iopub.status.busy": "2025-08-22T20:35:04.668187Z",
     "iopub.status.idle": "2025-08-22T20:35:04.675223Z",
     "shell.execute_reply": "2025-08-22T20:35:04.674443Z",
     "shell.execute_reply.started": "2025-08-22T20:35:04.668462Z"
    }
   },
   "outputs": [
    {
     "data": {
      "text/plain": [
       "5"
      ]
     },
     "execution_count": 7,
     "metadata": {},
     "output_type": "execute_result"
    }
   ],
   "source": [
    "all_states = [s for s in graph.get_state_history(thread)]\n",
    "len(all_states)"
   ]
  },
  {
   "cell_type": "code",
   "execution_count": 36,
   "id": "5d167aaa-f902-4779-a4f2-ddaf887e8fe4",
   "metadata": {
    "execution": {
     "iopub.execute_input": "2025-08-22T20:46:18.601265Z",
     "iopub.status.busy": "2025-08-22T20:46:18.600597Z",
     "iopub.status.idle": "2025-08-22T20:46:18.620207Z",
     "shell.execute_reply": "2025-08-22T20:46:18.619433Z",
     "shell.execute_reply.started": "2025-08-22T20:46:18.601234Z"
    }
   },
   "outputs": [
    {
     "name": "stdout",
     "output_type": "stream",
     "text": [
      "\n",
      "\n",
      "_________New state ______\n",
      "\n",
      "================================\u001b[1m Human Message \u001b[0m=================================\n",
      "\n",
      "Multiply 2 and 3\n"
     ]
    },
    {
     "data": {
      "text/plain": [
       "None"
      ]
     },
     "metadata": {},
     "output_type": "display_data"
    },
    {
     "name": "stdout",
     "output_type": "stream",
     "text": [
      "==================================\u001b[1m Ai Message \u001b[0m==================================\n",
      "Tool Calls:\n",
      "  multiply (call_UkJ5aIBccjXCqRw0b2H7ZfZG)\n",
      " Call ID: call_UkJ5aIBccjXCqRw0b2H7ZfZG\n",
      "  Args:\n",
      "    a: 2\n",
      "    b: 3\n"
     ]
    },
    {
     "data": {
      "text/plain": [
       "None"
      ]
     },
     "metadata": {},
     "output_type": "display_data"
    },
    {
     "name": "stdout",
     "output_type": "stream",
     "text": [
      "=================================\u001b[1m Tool Message \u001b[0m=================================\n",
      "Name: multiply\n",
      "\n",
      "6\n"
     ]
    },
    {
     "data": {
      "text/plain": [
       "None"
      ]
     },
     "metadata": {},
     "output_type": "display_data"
    },
    {
     "name": "stdout",
     "output_type": "stream",
     "text": [
      "==================================\u001b[1m Ai Message \u001b[0m==================================\n",
      "\n",
      "2 multiplied by 3 equals 6.\n"
     ]
    },
    {
     "data": {
      "text/plain": [
       "None"
      ]
     },
     "metadata": {},
     "output_type": "display_data"
    },
    {
     "name": "stdout",
     "output_type": "stream",
     "text": [
      "\n",
      "\n",
      "_________New state ______\n",
      "\n",
      "================================\u001b[1m Human Message \u001b[0m=================================\n",
      "\n",
      "Multiply 2 and 3\n"
     ]
    },
    {
     "data": {
      "text/plain": [
       "None"
      ]
     },
     "metadata": {},
     "output_type": "display_data"
    },
    {
     "name": "stdout",
     "output_type": "stream",
     "text": [
      "==================================\u001b[1m Ai Message \u001b[0m==================================\n",
      "Tool Calls:\n",
      "  multiply (call_UkJ5aIBccjXCqRw0b2H7ZfZG)\n",
      " Call ID: call_UkJ5aIBccjXCqRw0b2H7ZfZG\n",
      "  Args:\n",
      "    a: 2\n",
      "    b: 3\n"
     ]
    },
    {
     "data": {
      "text/plain": [
       "None"
      ]
     },
     "metadata": {},
     "output_type": "display_data"
    },
    {
     "name": "stdout",
     "output_type": "stream",
     "text": [
      "=================================\u001b[1m Tool Message \u001b[0m=================================\n",
      "Name: multiply\n",
      "\n",
      "6\n"
     ]
    },
    {
     "data": {
      "text/plain": [
       "None"
      ]
     },
     "metadata": {},
     "output_type": "display_data"
    },
    {
     "name": "stdout",
     "output_type": "stream",
     "text": [
      "\n",
      "\n",
      "_________New state ______\n",
      "\n",
      "================================\u001b[1m Human Message \u001b[0m=================================\n",
      "\n",
      "Multiply 2 and 3\n"
     ]
    },
    {
     "data": {
      "text/plain": [
       "None"
      ]
     },
     "metadata": {},
     "output_type": "display_data"
    },
    {
     "name": "stdout",
     "output_type": "stream",
     "text": [
      "==================================\u001b[1m Ai Message \u001b[0m==================================\n",
      "Tool Calls:\n",
      "  multiply (call_UkJ5aIBccjXCqRw0b2H7ZfZG)\n",
      " Call ID: call_UkJ5aIBccjXCqRw0b2H7ZfZG\n",
      "  Args:\n",
      "    a: 2\n",
      "    b: 3\n"
     ]
    },
    {
     "data": {
      "text/plain": [
       "None"
      ]
     },
     "metadata": {},
     "output_type": "display_data"
    },
    {
     "name": "stdout",
     "output_type": "stream",
     "text": [
      "\n",
      "\n",
      "_________New state ______\n",
      "\n",
      "================================\u001b[1m Human Message \u001b[0m=================================\n",
      "\n",
      "Multiply 2 and 3\n"
     ]
    },
    {
     "data": {
      "text/plain": [
       "None"
      ]
     },
     "metadata": {},
     "output_type": "display_data"
    },
    {
     "name": "stdout",
     "output_type": "stream",
     "text": [
      "\n",
      "\n",
      "_________New state ______\n",
      "\n"
     ]
    }
   ],
   "source": [
    "for s in all_states: # newer state messages appended in front\n",
    "    print(\"\\n\\n_________New state ______\\n\")\n",
    "    for msg in s.values['messages']:\n",
    "        display(msg.pretty_print())"
   ]
  },
  {
   "cell_type": "code",
   "execution_count": 37,
   "id": "5b07ee49-d924-4491-95b1-33def9f17799",
   "metadata": {
    "execution": {
     "iopub.execute_input": "2025-08-22T20:46:22.523765Z",
     "iopub.status.busy": "2025-08-22T20:46:22.522895Z",
     "iopub.status.idle": "2025-08-22T20:46:22.528458Z",
     "shell.execute_reply": "2025-08-22T20:46:22.527757Z",
     "shell.execute_reply.started": "2025-08-22T20:46:22.523732Z"
    }
   },
   "outputs": [
    {
     "data": {
      "text/plain": [
       "[HumanMessage(content='Multiply 2 and 3', additional_kwargs={}, response_metadata={}, id='a99d59c1-5c67-4fff-86e5-ec37b513a0d8')]"
      ]
     },
     "execution_count": 37,
     "metadata": {},
     "output_type": "execute_result"
    }
   ],
   "source": [
    "to_replay =all_states[-2]\n",
    "to_replay.values['messages']"
   ]
  },
  {
   "cell_type": "code",
   "execution_count": 38,
   "id": "99eb18f7-e757-44c7-bc8c-cf83ffc35b01",
   "metadata": {
    "execution": {
     "iopub.execute_input": "2025-08-22T20:46:36.679377Z",
     "iopub.status.busy": "2025-08-22T20:46:36.679071Z",
     "iopub.status.idle": "2025-08-22T20:46:36.684671Z",
     "shell.execute_reply": "2025-08-22T20:46:36.683925Z",
     "shell.execute_reply.started": "2025-08-22T20:46:36.679356Z"
    }
   },
   "outputs": [
    {
     "data": {
      "text/plain": [
       "{'configurable': {'thread_id': '1',\n",
       "  'checkpoint_ns': '',\n",
       "  'checkpoint_id': '1f07f977-4718-60dc-8000-bf788636cb56'}}"
      ]
     },
     "execution_count": 38,
     "metadata": {},
     "output_type": "execute_result"
    }
   ],
   "source": [
    "to_replay.config"
   ]
  },
  {
   "cell_type": "markdown",
   "id": "9233d3fa-4d96-44e8-bd34-bb7747fdcac2",
   "metadata": {},
   "source": [
    "## Just pass the checkpoint_id"
   ]
  },
  {
   "cell_type": "code",
   "execution_count": 39,
   "id": "896a5f41-7386-4bfa-a78e-3e6ca5e26641",
   "metadata": {
    "execution": {
     "iopub.execute_input": "2025-08-22T20:46:40.222481Z",
     "iopub.status.busy": "2025-08-22T20:46:40.222105Z",
     "iopub.status.idle": "2025-08-22T20:46:42.340198Z",
     "shell.execute_reply": "2025-08-22T20:46:42.339474Z",
     "shell.execute_reply.started": "2025-08-22T20:46:40.222454Z"
    }
   },
   "outputs": [
    {
     "name": "stdout",
     "output_type": "stream",
     "text": [
      "================================\u001b[1m Human Message \u001b[0m=================================\n",
      "\n",
      "Multiply 2 and 3\n",
      "==================================\u001b[1m Ai Message \u001b[0m==================================\n",
      "Tool Calls:\n",
      "  multiply (call_i2KCUr3DIaZaInWTPRwCVv9Y)\n",
      " Call ID: call_i2KCUr3DIaZaInWTPRwCVv9Y\n",
      "  Args:\n",
      "    a: 2\n",
      "    b: 3\n",
      "=================================\u001b[1m Tool Message \u001b[0m=================================\n",
      "Name: multiply\n",
      "\n",
      "6\n",
      "==================================\u001b[1m Ai Message \u001b[0m==================================\n",
      "\n",
      "2 multiplied by 3 equals 6.\n"
     ]
    }
   ],
   "source": [
    "for event in graph.stream(None, to_replay.config, stream_mode=\"values\"):\n",
    "    event['messages'][-1].pretty_print()"
   ]
  },
  {
   "cell_type": "markdown",
   "id": "1101f4cb-8a06-4c44-a4ee-ae33838c0359",
   "metadata": {},
   "source": [
    "## New states added and played, not previous removed"
   ]
  },
  {
   "cell_type": "code",
   "execution_count": 40,
   "id": "32900627-0774-4341-b187-2e9bc378ed4c",
   "metadata": {
    "execution": {
     "iopub.execute_input": "2025-08-22T20:47:23.471246Z",
     "iopub.status.busy": "2025-08-22T20:47:23.470497Z",
     "iopub.status.idle": "2025-08-22T20:47:23.478327Z",
     "shell.execute_reply": "2025-08-22T20:47:23.477559Z",
     "shell.execute_reply.started": "2025-08-22T20:47:23.471211Z"
    }
   },
   "outputs": [
    {
     "data": {
      "text/plain": [
       "8"
      ]
     },
     "execution_count": 40,
     "metadata": {},
     "output_type": "execute_result"
    }
   ],
   "source": [
    "all_states = [s for s in graph.get_state_history(thread)]\n",
    "len(all_states)"
   ]
  },
  {
   "cell_type": "markdown",
   "id": "0e3b0b8f-10e5-4368-bcd8-4eb1506d429c",
   "metadata": {},
   "source": [
    "# Forking"
   ]
  },
  {
   "cell_type": "code",
   "execution_count": 41,
   "id": "abd4a4f1-41cf-470c-87d8-8aa4ac574efa",
   "metadata": {
    "execution": {
     "iopub.execute_input": "2025-08-22T20:48:24.203256Z",
     "iopub.status.busy": "2025-08-22T20:48:24.201933Z",
     "iopub.status.idle": "2025-08-22T20:48:24.208453Z",
     "shell.execute_reply": "2025-08-22T20:48:24.207681Z",
     "shell.execute_reply.started": "2025-08-22T20:48:24.203220Z"
    }
   },
   "outputs": [
    {
     "data": {
      "text/plain": [
       "[HumanMessage(content='Multiply 2 and 3', additional_kwargs={}, response_metadata={}, id='a99d59c1-5c67-4fff-86e5-ec37b513a0d8')]"
      ]
     },
     "execution_count": 41,
     "metadata": {},
     "output_type": "execute_result"
    }
   ],
   "source": [
    "to_fork = all_states[-2]\n",
    "to_fork.values[\"messages\"]"
   ]
  },
  {
   "cell_type": "code",
   "execution_count": 42,
   "id": "3d7b5719-5242-49fa-9869-8a22708efa3c",
   "metadata": {
    "execution": {
     "iopub.execute_input": "2025-08-22T20:48:29.261723Z",
     "iopub.status.busy": "2025-08-22T20:48:29.260835Z",
     "iopub.status.idle": "2025-08-22T20:48:29.266299Z",
     "shell.execute_reply": "2025-08-22T20:48:29.265607Z",
     "shell.execute_reply.started": "2025-08-22T20:48:29.261692Z"
    }
   },
   "outputs": [
    {
     "data": {
      "text/plain": [
       "{'configurable': {'thread_id': '1',\n",
       "  'checkpoint_ns': '',\n",
       "  'checkpoint_id': '1f07f977-4718-60dc-8000-bf788636cb56'}}"
      ]
     },
     "execution_count": 42,
     "metadata": {},
     "output_type": "execute_result"
    }
   ],
   "source": [
    "to_fork.config"
   ]
  },
  {
   "cell_type": "code",
   "execution_count": 43,
   "id": "bdbec408-716a-476b-bb3d-1b51a82dac70",
   "metadata": {
    "execution": {
     "iopub.execute_input": "2025-08-22T20:48:56.808501Z",
     "iopub.status.busy": "2025-08-22T20:48:56.807690Z",
     "iopub.status.idle": "2025-08-22T20:48:56.812796Z",
     "shell.execute_reply": "2025-08-22T20:48:56.811911Z",
     "shell.execute_reply.started": "2025-08-22T20:48:56.808476Z"
    }
   },
   "outputs": [],
   "source": [
    "fork_config = graph.update_state(\n",
    "    to_fork.config,\n",
    "    {\"messages\": [HumanMessage(content='Multiply 5 and 3', \n",
    "                               id=to_fork.values[\"messages\"][0].id)]},\n",
    ")"
   ]
  },
  {
   "cell_type": "code",
   "execution_count": 44,
   "id": "a00c3c5b-b222-4c68-a7e4-e7cb74472917",
   "metadata": {
    "execution": {
     "iopub.execute_input": "2025-08-22T20:49:02.607648Z",
     "iopub.status.busy": "2025-08-22T20:49:02.607271Z",
     "iopub.status.idle": "2025-08-22T20:49:02.612577Z",
     "shell.execute_reply": "2025-08-22T20:49:02.611920Z",
     "shell.execute_reply.started": "2025-08-22T20:49:02.607622Z"
    }
   },
   "outputs": [
    {
     "data": {
      "text/plain": [
       "{'configurable': {'thread_id': '1',\n",
       "  'checkpoint_ns': '',\n",
       "  'checkpoint_id': '1f07f996-c0e8-6c22-8001-932591a23a52'}}"
      ]
     },
     "execution_count": 44,
     "metadata": {},
     "output_type": "execute_result"
    }
   ],
   "source": [
    "fork_config"
   ]
  },
  {
   "cell_type": "code",
   "execution_count": 45,
   "id": "98ead9bf-8104-417f-898e-2a748739004f",
   "metadata": {
    "execution": {
     "iopub.execute_input": "2025-08-22T20:49:14.732811Z",
     "iopub.status.busy": "2025-08-22T20:49:14.732434Z",
     "iopub.status.idle": "2025-08-22T20:49:14.740647Z",
     "shell.execute_reply": "2025-08-22T20:49:14.739973Z",
     "shell.execute_reply.started": "2025-08-22T20:49:14.732785Z"
    }
   },
   "outputs": [
    {
     "data": {
      "text/plain": [
       "[HumanMessage(content='Multiply 5 and 3', additional_kwargs={}, response_metadata={}, id='a99d59c1-5c67-4fff-86e5-ec37b513a0d8')]"
      ]
     },
     "execution_count": 45,
     "metadata": {},
     "output_type": "execute_result"
    }
   ],
   "source": [
    "all_states = [state for state in graph.get_state_history(thread) ]\n",
    "all_states[0].values[\"messages\"] # 0 is the latest"
   ]
  },
  {
   "cell_type": "code",
   "execution_count": 47,
   "id": "bd7ddec6-2324-4378-b160-6c3956366d97",
   "metadata": {
    "execution": {
     "iopub.execute_input": "2025-08-22T20:50:09.612106Z",
     "iopub.status.busy": "2025-08-22T20:50:09.610965Z",
     "iopub.status.idle": "2025-08-22T20:50:09.618347Z",
     "shell.execute_reply": "2025-08-22T20:50:09.617523Z",
     "shell.execute_reply.started": "2025-08-22T20:50:09.612072Z"
    }
   },
   "outputs": [
    {
     "name": "stdout",
     "output_type": "stream",
     "text": [
      "{'messages': [HumanMessage(content='Multiply 5 and 3', additional_kwargs={}, response_metadata={}, id='a99d59c1-5c67-4fff-86e5-ec37b513a0d8')]}\n",
      "{'messages': [HumanMessage(content='Multiply 2 and 3', additional_kwargs={}, response_metadata={}, id='a99d59c1-5c67-4fff-86e5-ec37b513a0d8'), AIMessage(content='', additional_kwargs={'tool_calls': [{'id': 'call_i2KCUr3DIaZaInWTPRwCVv9Y', 'function': {'arguments': '{\"a\":2,\"b\":3}', 'name': 'multiply'}, 'type': 'function'}], 'refusal': None}, response_metadata={'token_usage': {'completion_tokens': 17, 'prompt_tokens': 131, 'total_tokens': 148, 'completion_tokens_details': {'accepted_prediction_tokens': 0, 'audio_tokens': 0, 'reasoning_tokens': 0, 'rejected_prediction_tokens': 0}, 'prompt_tokens_details': {'audio_tokens': 0, 'cached_tokens': 0}}, 'model_name': 'gpt-4.1-2025-04-14', 'system_fingerprint': 'fp_daf5fcc80a', 'id': 'chatcmpl-C7SwiSThPKsS0JMunyyAIejXtx3qC', 'service_tier': 'default', 'finish_reason': 'tool_calls', 'logprobs': None}, id='run--6de7d450-d669-4de0-a286-7fa1a64dbcf7-0', tool_calls=[{'name': 'multiply', 'args': {'a': 2, 'b': 3}, 'id': 'call_i2KCUr3DIaZaInWTPRwCVv9Y', 'type': 'tool_call'}], usage_metadata={'input_tokens': 131, 'output_tokens': 17, 'total_tokens': 148, 'input_token_details': {'audio': 0, 'cache_read': 0}, 'output_token_details': {'audio': 0, 'reasoning': 0}}), ToolMessage(content='6', name='multiply', id='91928a4c-ad69-45b8-907c-dc98e40d420f', tool_call_id='call_i2KCUr3DIaZaInWTPRwCVv9Y'), AIMessage(content='2 multiplied by 3 equals 6.', additional_kwargs={'refusal': None}, response_metadata={'token_usage': {'completion_tokens': 10, 'prompt_tokens': 156, 'total_tokens': 166, 'completion_tokens_details': {'accepted_prediction_tokens': 0, 'audio_tokens': 0, 'reasoning_tokens': 0, 'rejected_prediction_tokens': 0}, 'prompt_tokens_details': {'audio_tokens': 0, 'cached_tokens': 0}}, 'model_name': 'gpt-4.1-2025-04-14', 'system_fingerprint': 'fp_daf5fcc80a', 'id': 'chatcmpl-C7Swj350y9JQjRs59jsYbkckefG1A', 'service_tier': 'default', 'finish_reason': 'stop', 'logprobs': None}, id='run--f39eac17-ac88-408b-8c5b-cb48b2291e3c-0', usage_metadata={'input_tokens': 156, 'output_tokens': 10, 'total_tokens': 166, 'input_token_details': {'audio': 0, 'cache_read': 0}, 'output_token_details': {'audio': 0, 'reasoning': 0}})]}\n",
      "{'messages': [HumanMessage(content='Multiply 2 and 3', additional_kwargs={}, response_metadata={}, id='a99d59c1-5c67-4fff-86e5-ec37b513a0d8'), AIMessage(content='', additional_kwargs={'tool_calls': [{'id': 'call_i2KCUr3DIaZaInWTPRwCVv9Y', 'function': {'arguments': '{\"a\":2,\"b\":3}', 'name': 'multiply'}, 'type': 'function'}], 'refusal': None}, response_metadata={'token_usage': {'completion_tokens': 17, 'prompt_tokens': 131, 'total_tokens': 148, 'completion_tokens_details': {'accepted_prediction_tokens': 0, 'audio_tokens': 0, 'reasoning_tokens': 0, 'rejected_prediction_tokens': 0}, 'prompt_tokens_details': {'audio_tokens': 0, 'cached_tokens': 0}}, 'model_name': 'gpt-4.1-2025-04-14', 'system_fingerprint': 'fp_daf5fcc80a', 'id': 'chatcmpl-C7SwiSThPKsS0JMunyyAIejXtx3qC', 'service_tier': 'default', 'finish_reason': 'tool_calls', 'logprobs': None}, id='run--6de7d450-d669-4de0-a286-7fa1a64dbcf7-0', tool_calls=[{'name': 'multiply', 'args': {'a': 2, 'b': 3}, 'id': 'call_i2KCUr3DIaZaInWTPRwCVv9Y', 'type': 'tool_call'}], usage_metadata={'input_tokens': 131, 'output_tokens': 17, 'total_tokens': 148, 'input_token_details': {'audio': 0, 'cache_read': 0}, 'output_token_details': {'audio': 0, 'reasoning': 0}}), ToolMessage(content='6', name='multiply', id='91928a4c-ad69-45b8-907c-dc98e40d420f', tool_call_id='call_i2KCUr3DIaZaInWTPRwCVv9Y')]}\n",
      "{'messages': [HumanMessage(content='Multiply 2 and 3', additional_kwargs={}, response_metadata={}, id='a99d59c1-5c67-4fff-86e5-ec37b513a0d8'), AIMessage(content='', additional_kwargs={'tool_calls': [{'id': 'call_i2KCUr3DIaZaInWTPRwCVv9Y', 'function': {'arguments': '{\"a\":2,\"b\":3}', 'name': 'multiply'}, 'type': 'function'}], 'refusal': None}, response_metadata={'token_usage': {'completion_tokens': 17, 'prompt_tokens': 131, 'total_tokens': 148, 'completion_tokens_details': {'accepted_prediction_tokens': 0, 'audio_tokens': 0, 'reasoning_tokens': 0, 'rejected_prediction_tokens': 0}, 'prompt_tokens_details': {'audio_tokens': 0, 'cached_tokens': 0}}, 'model_name': 'gpt-4.1-2025-04-14', 'system_fingerprint': 'fp_daf5fcc80a', 'id': 'chatcmpl-C7SwiSThPKsS0JMunyyAIejXtx3qC', 'service_tier': 'default', 'finish_reason': 'tool_calls', 'logprobs': None}, id='run--6de7d450-d669-4de0-a286-7fa1a64dbcf7-0', tool_calls=[{'name': 'multiply', 'args': {'a': 2, 'b': 3}, 'id': 'call_i2KCUr3DIaZaInWTPRwCVv9Y', 'type': 'tool_call'}], usage_metadata={'input_tokens': 131, 'output_tokens': 17, 'total_tokens': 148, 'input_token_details': {'audio': 0, 'cache_read': 0}, 'output_token_details': {'audio': 0, 'reasoning': 0}})]}\n",
      "{'messages': [HumanMessage(content='Multiply 2 and 3', additional_kwargs={}, response_metadata={}, id='a99d59c1-5c67-4fff-86e5-ec37b513a0d8'), AIMessage(content='', additional_kwargs={'tool_calls': [{'id': 'call_UkJ5aIBccjXCqRw0b2H7ZfZG', 'function': {'arguments': '{\"a\":2,\"b\":3}', 'name': 'multiply'}, 'type': 'function'}], 'refusal': None}, response_metadata={'token_usage': {'completion_tokens': 17, 'prompt_tokens': 131, 'total_tokens': 148, 'completion_tokens_details': {'accepted_prediction_tokens': 0, 'audio_tokens': 0, 'reasoning_tokens': 0, 'rejected_prediction_tokens': 0}, 'prompt_tokens_details': {'audio_tokens': 0, 'cached_tokens': 0}}, 'model_name': 'gpt-4.1-2025-04-14', 'system_fingerprint': 'fp_daf5fcc80a', 'id': 'chatcmpl-C7SlITC3MZP7tafmrnY1DRcOq8tvQ', 'service_tier': 'default', 'finish_reason': 'tool_calls', 'logprobs': None}, id='run--681d5284-53d6-49b8-87e9-d99a291c9acb-0', tool_calls=[{'name': 'multiply', 'args': {'a': 2, 'b': 3}, 'id': 'call_UkJ5aIBccjXCqRw0b2H7ZfZG', 'type': 'tool_call'}], usage_metadata={'input_tokens': 131, 'output_tokens': 17, 'total_tokens': 148, 'input_token_details': {'audio': 0, 'cache_read': 0}, 'output_token_details': {'audio': 0, 'reasoning': 0}}), ToolMessage(content='6', name='multiply', id='e303a669-7029-43f3-bd8d-9ab198a4efa9', tool_call_id='call_UkJ5aIBccjXCqRw0b2H7ZfZG'), AIMessage(content='2 multiplied by 3 equals 6.', additional_kwargs={'refusal': None}, response_metadata={'token_usage': {'completion_tokens': 10, 'prompt_tokens': 156, 'total_tokens': 166, 'completion_tokens_details': {'accepted_prediction_tokens': 0, 'audio_tokens': 0, 'reasoning_tokens': 0, 'rejected_prediction_tokens': 0}, 'prompt_tokens_details': {'audio_tokens': 0, 'cached_tokens': 0}}, 'model_name': 'gpt-4.1-2025-04-14', 'system_fingerprint': 'fp_daf5fcc80a', 'id': 'chatcmpl-C7SlJEj4KmfqGeJvvwFi8JfZdt2OZ', 'service_tier': 'default', 'finish_reason': 'stop', 'logprobs': None}, id='run--004377cc-6e77-4a03-89dd-102683cabd23-0', usage_metadata={'input_tokens': 156, 'output_tokens': 10, 'total_tokens': 166, 'input_token_details': {'audio': 0, 'cache_read': 0}, 'output_token_details': {'audio': 0, 'reasoning': 0}})]}\n",
      "{'messages': [HumanMessage(content='Multiply 2 and 3', additional_kwargs={}, response_metadata={}, id='a99d59c1-5c67-4fff-86e5-ec37b513a0d8'), AIMessage(content='', additional_kwargs={'tool_calls': [{'id': 'call_UkJ5aIBccjXCqRw0b2H7ZfZG', 'function': {'arguments': '{\"a\":2,\"b\":3}', 'name': 'multiply'}, 'type': 'function'}], 'refusal': None}, response_metadata={'token_usage': {'completion_tokens': 17, 'prompt_tokens': 131, 'total_tokens': 148, 'completion_tokens_details': {'accepted_prediction_tokens': 0, 'audio_tokens': 0, 'reasoning_tokens': 0, 'rejected_prediction_tokens': 0}, 'prompt_tokens_details': {'audio_tokens': 0, 'cached_tokens': 0}}, 'model_name': 'gpt-4.1-2025-04-14', 'system_fingerprint': 'fp_daf5fcc80a', 'id': 'chatcmpl-C7SlITC3MZP7tafmrnY1DRcOq8tvQ', 'service_tier': 'default', 'finish_reason': 'tool_calls', 'logprobs': None}, id='run--681d5284-53d6-49b8-87e9-d99a291c9acb-0', tool_calls=[{'name': 'multiply', 'args': {'a': 2, 'b': 3}, 'id': 'call_UkJ5aIBccjXCqRw0b2H7ZfZG', 'type': 'tool_call'}], usage_metadata={'input_tokens': 131, 'output_tokens': 17, 'total_tokens': 148, 'input_token_details': {'audio': 0, 'cache_read': 0}, 'output_token_details': {'audio': 0, 'reasoning': 0}}), ToolMessage(content='6', name='multiply', id='e303a669-7029-43f3-bd8d-9ab198a4efa9', tool_call_id='call_UkJ5aIBccjXCqRw0b2H7ZfZG')]}\n",
      "{'messages': [HumanMessage(content='Multiply 2 and 3', additional_kwargs={}, response_metadata={}, id='a99d59c1-5c67-4fff-86e5-ec37b513a0d8'), AIMessage(content='', additional_kwargs={'tool_calls': [{'id': 'call_UkJ5aIBccjXCqRw0b2H7ZfZG', 'function': {'arguments': '{\"a\":2,\"b\":3}', 'name': 'multiply'}, 'type': 'function'}], 'refusal': None}, response_metadata={'token_usage': {'completion_tokens': 17, 'prompt_tokens': 131, 'total_tokens': 148, 'completion_tokens_details': {'accepted_prediction_tokens': 0, 'audio_tokens': 0, 'reasoning_tokens': 0, 'rejected_prediction_tokens': 0}, 'prompt_tokens_details': {'audio_tokens': 0, 'cached_tokens': 0}}, 'model_name': 'gpt-4.1-2025-04-14', 'system_fingerprint': 'fp_daf5fcc80a', 'id': 'chatcmpl-C7SlITC3MZP7tafmrnY1DRcOq8tvQ', 'service_tier': 'default', 'finish_reason': 'tool_calls', 'logprobs': None}, id='run--681d5284-53d6-49b8-87e9-d99a291c9acb-0', tool_calls=[{'name': 'multiply', 'args': {'a': 2, 'b': 3}, 'id': 'call_UkJ5aIBccjXCqRw0b2H7ZfZG', 'type': 'tool_call'}], usage_metadata={'input_tokens': 131, 'output_tokens': 17, 'total_tokens': 148, 'input_token_details': {'audio': 0, 'cache_read': 0}, 'output_token_details': {'audio': 0, 'reasoning': 0}})]}\n",
      "{'messages': [HumanMessage(content='Multiply 2 and 3', additional_kwargs={}, response_metadata={}, id='a99d59c1-5c67-4fff-86e5-ec37b513a0d8')]}\n",
      "{'messages': []}\n"
     ]
    },
    {
     "data": {
      "text/plain": [
       "9"
      ]
     },
     "execution_count": 47,
     "metadata": {},
     "output_type": "execute_result"
    }
   ],
   "source": [
    "for snap in all_states:\n",
    "    print(snap.values) \n",
    "# our latest messages doesn't have all the other previous stages in state updates. This shows its never run before\n",
    "# the id of latest message will override the previous one"
   ]
  },
  {
   "cell_type": "code",
   "execution_count": 48,
   "id": "9c94b929-5c11-4abb-878a-b49e997f7ca0",
   "metadata": {
    "execution": {
     "iopub.execute_input": "2025-08-22T20:50:29.151451Z",
     "iopub.status.busy": "2025-08-22T20:50:29.150586Z",
     "iopub.status.idle": "2025-08-22T20:50:29.159978Z",
     "shell.execute_reply": "2025-08-22T20:50:29.155495Z",
     "shell.execute_reply.started": "2025-08-22T20:50:29.151402Z"
    }
   },
   "outputs": [
    {
     "data": {
      "text/plain": [
       "9"
      ]
     },
     "execution_count": 48,
     "metadata": {},
     "output_type": "execute_result"
    }
   ],
   "source": [
    "len(all_states)"
   ]
  },
  {
   "cell_type": "markdown",
   "id": "7486314a-6323-4422-98eb-2d6018caec9d",
   "metadata": {},
   "source": [
    "## with forking Graph re-runs when state updated"
   ]
  },
  {
   "cell_type": "code",
   "execution_count": 49,
   "id": "a8f47ffd-6660-4bd4-b885-b7da1637aa1a",
   "metadata": {
    "execution": {
     "iopub.execute_input": "2025-08-22T20:50:45.356791Z",
     "iopub.status.busy": "2025-08-22T20:50:45.356147Z",
     "iopub.status.idle": "2025-08-22T20:50:46.915147Z",
     "shell.execute_reply": "2025-08-22T20:50:46.914275Z",
     "shell.execute_reply.started": "2025-08-22T20:50:45.356758Z"
    }
   },
   "outputs": [
    {
     "name": "stdout",
     "output_type": "stream",
     "text": [
      "================================\u001b[1m Human Message \u001b[0m=================================\n",
      "\n",
      "Multiply 5 and 3\n",
      "==================================\u001b[1m Ai Message \u001b[0m==================================\n",
      "Tool Calls:\n",
      "  multiply (call_rryfNVWQNWbkWtzzqc0h5bFN)\n",
      " Call ID: call_rryfNVWQNWbkWtzzqc0h5bFN\n",
      "  Args:\n",
      "    a: 5\n",
      "    b: 3\n",
      "=================================\u001b[1m Tool Message \u001b[0m=================================\n",
      "Name: multiply\n",
      "\n",
      "15\n",
      "==================================\u001b[1m Ai Message \u001b[0m==================================\n",
      "\n",
      "The product of 5 and 3 is 15.\n"
     ]
    }
   ],
   "source": [
    "for event in graph.stream(None, fork_config, stream_mode=\"values\"):\n",
    "    event['messages'][-1].pretty_print()"
   ]
  },
  {
   "cell_type": "code",
   "execution_count": 51,
   "id": "258a328b-fe64-4573-afc8-4f3ef87dc458",
   "metadata": {
    "execution": {
     "iopub.execute_input": "2025-08-22T20:51:09.338080Z",
     "iopub.status.busy": "2025-08-22T20:51:09.337790Z",
     "iopub.status.idle": "2025-08-22T20:51:09.345489Z",
     "shell.execute_reply": "2025-08-22T20:51:09.344709Z",
     "shell.execute_reply.started": "2025-08-22T20:51:09.338059Z"
    }
   },
   "outputs": [
    {
     "data": {
      "text/plain": [
       "12"
      ]
     },
     "execution_count": 51,
     "metadata": {},
     "output_type": "execute_result"
    }
   ],
   "source": [
    "len([state for state in graph.get_state_history(thread)])"
   ]
  },
  {
   "cell_type": "code",
   "execution_count": null,
   "id": "8082625a-04db-48ee-a3d6-c203f12658d3",
   "metadata": {},
   "outputs": [],
   "source": []
  }
 ],
 "metadata": {
  "kernelspec": {
   "display_name": "Python 3 (ipykernel)",
   "language": "python",
   "name": "python3"
  },
  "language_info": {
   "codemirror_mode": {
    "name": "ipython",
    "version": 3
   },
   "file_extension": ".py",
   "mimetype": "text/x-python",
   "name": "python",
   "nbconvert_exporter": "python",
   "pygments_lexer": "ipython3",
   "version": "3.12.9"
  }
 },
 "nbformat": 4,
 "nbformat_minor": 5
}
