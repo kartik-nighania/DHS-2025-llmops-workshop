{
 "cells": [
  {
   "cell_type": "code",
   "execution_count": 1,
   "id": "356a6482",
   "metadata": {
    "execution": {
     "iopub.execute_input": "2025-08-22T19:51:18.030881Z",
     "iopub.status.busy": "2025-08-22T19:51:18.030467Z",
     "iopub.status.idle": "2025-08-22T19:51:18.039632Z",
     "shell.execute_reply": "2025-08-22T19:51:18.039037Z",
     "shell.execute_reply.started": "2025-08-22T19:51:18.030858Z"
    }
   },
   "outputs": [
    {
     "name": "stdout",
     "output_type": "stream",
     "text": [
      "True\n"
     ]
    }
   ],
   "source": [
    "from dotenv import load_dotenv\n",
    "import os\n",
    "print(load_dotenv('../.env'))"
   ]
  },
  {
   "cell_type": "markdown",
   "id": "4eb43343-9a6f-42cb-86e6-4380f928633c",
   "metadata": {},
   "source": [
    "## Graph"
   ]
  },
  {
   "cell_type": "code",
   "execution_count": 3,
   "id": "822b45dc-c704-4d69-aa27-c4f64a1d03a6",
   "metadata": {
    "execution": {
     "iopub.execute_input": "2025-08-22T19:51:51.916125Z",
     "iopub.status.busy": "2025-08-22T19:51:51.915308Z",
     "iopub.status.idle": "2025-08-22T19:51:58.116836Z",
     "shell.execute_reply": "2025-08-22T19:51:58.116164Z",
     "shell.execute_reply.started": "2025-08-22T19:51:51.916090Z"
    }
   },
   "outputs": [
    {
     "data": {
      "image/png": "[encoded data removed]",
      "text/plain": [
       "<IPython.core.display.Image object>"
      ]
     },
     "metadata": {},
     "output_type": "display_data"
    },
    {
     "name": "stdout",
     "output_type": "stream",
     "text": [
      "================================\u001b[1m Human Message \u001b[0m=================================\n",
      "\n",
      "what's (3 + 5) x 12?\n",
      "==================================\u001b[1m Ai Message \u001b[0m==================================\n",
      "Tool Calls:\n",
      "  add (call_uBqcZCUpdQu1jAPlGURkuYkL)\n",
      " Call ID: call_uBqcZCUpdQu1jAPlGURkuYkL\n",
      "  Args:\n",
      "    a: 3\n",
      "    b: 5\n",
      "=================================\u001b[1m Tool Message \u001b[0m=================================\n",
      "Name: add\n",
      "\n",
      "8\n",
      "==================================\u001b[1m Ai Message \u001b[0m==================================\n",
      "Tool Calls:\n",
      "  multiply (call_pnhZqly2GiglSfpeHN7bJZJP)\n",
      " Call ID: call_pnhZqly2GiglSfpeHN7bJZJP\n",
      "  Args:\n",
      "    a: 8\n",
      "    b: 12\n",
      "=================================\u001b[1m Tool Message \u001b[0m=================================\n",
      "Name: multiply\n",
      "\n",
      "96\n",
      "==================================\u001b[1m Ai Message \u001b[0m==================================\n",
      "\n",
      "(3 + 5) equals 8, and 8 × 12 is 96. \n",
      "\n",
      "So, (3 + 5) × 12 = 96.\n"
     ]
    }
   ],
   "source": [
    "from langchain_mcp_adapters.client import MultiServerMCPClient\n",
    "from langchain.chat_models import init_chat_model\n",
    "from langgraph.graph import StateGraph, MessagesState, START, END\n",
    "from langgraph.prebuilt import ToolNode\n",
    "from langchain_openai import ChatOpenAI\n",
    "import os\n",
    "from IPython.display import Image, display\n",
    "\n",
    "model = ChatOpenAI(model=os.environ[\"OPENAI_MODEL\"])\n",
    "client = MultiServerMCPClient(\n",
    "    {\n",
    "        \"math\": {\n",
    "            \"command\": \"python\",\n",
    "            \"args\": [f\"{os.getcwd()}/math_mcp_stdio.py\"],\n",
    "            \"transport\": \"stdio\",\n",
    "        }\n",
    "    }\n",
    ")\n",
    "tools = await client.get_tools()\n",
    "model_with_tools = model.bind_tools(tools)\n",
    "\n",
    "# Create ToolNode\n",
    "tool_node = ToolNode(tools)\n",
    "\n",
    "def should_continue(state: MessagesState):\n",
    "    messages = state[\"messages\"]\n",
    "    last_message = messages[-1]\n",
    "    if last_message.tool_calls:\n",
    "        return \"tools\"\n",
    "    return END\n",
    "\n",
    "# Define call_model function\n",
    "async def call_model(state: MessagesState):\n",
    "    messages = state[\"messages\"]\n",
    "    response = await model_with_tools.ainvoke(messages)\n",
    "    return {\"messages\": [response]}\n",
    "\n",
    "# Build the graph\n",
    "builder = StateGraph(MessagesState)\n",
    "builder.add_node(\"call_model\", call_model)\n",
    "builder.add_node(\"tools\", tool_node)\n",
    "\n",
    "builder.add_edge(START, \"call_model\")\n",
    "builder.add_conditional_edges(\n",
    "    \"call_model\",\n",
    "    should_continue,\n",
    ")\n",
    "builder.add_edge(\"tools\", \"call_model\")\n",
    "\n",
    "# Compile the graph\n",
    "graph = builder.compile()\n",
    "display(Image(graph.get_graph(xray=True).draw_mermaid_png()))\n",
    "\n",
    "# Test the graph\n",
    "messages = await graph.ainvoke(\n",
    "    {\"messages\": [{\"role\": \"user\", \"content\": \"what's (3 + 5) x 12?\"}]}\n",
    ")\n",
    "\n",
    "for m in messages['messages']:\n",
    "    m.pretty_print()"
   ]
  },
  {
   "cell_type": "code",
   "execution_count": null,
   "id": "97a67bb6-6b09-44ea-8b5d-7028c10fca2f",
   "metadata": {},
   "outputs": [],
   "source": []
  }
 ],
 "metadata": {
  "kernelspec": {
   "display_name": "Python 3 (ipykernel)",
   "language": "python",
   "name": "python3"
  },
  "language_info": {
   "codemirror_mode": {
    "name": "ipython",
    "version": 3
   },
   "file_extension": ".py",
   "mimetype": "text/x-python",
   "name": "python",
   "nbconvert_exporter": "python",
   "pygments_lexer": "ipython3",
   "version": "3.12.9"
  }
 },
 "nbformat": 4,
 "nbformat_minor": 5
}
