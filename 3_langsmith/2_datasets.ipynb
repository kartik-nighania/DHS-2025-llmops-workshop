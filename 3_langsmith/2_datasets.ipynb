{
 "cells": [
  {
   "cell_type": "code",
   "execution_count": 2,
   "metadata": {
    "execution": {
     "iopub.execute_input": "2025-08-22T21:36:02.253705Z",
     "iopub.status.busy": "2025-08-22T21:36:02.253091Z",
     "iopub.status.idle": "2025-08-22T21:36:02.260168Z",
     "shell.execute_reply": "2025-08-22T21:36:02.259426Z",
     "shell.execute_reply.started": "2025-08-22T21:36:02.253660Z"
    }
   },
   "outputs": [
    {
     "name": "stdout",
     "output_type": "stream",
     "text": [
      "True\n",
      "agentic-ops\n"
     ]
    }
   ],
   "source": [
    "from dotenv import load_dotenv\n",
    "import os\n",
    "print(load_dotenv('../.env'))\n",
    "print(os.environ['LANGSMITH_PROJECT'])\n",
    "os.environ['LANGSMITH_TRACING']=\"true\"\n",
    "os.environ['USER_AGENT'] = 'myagent'"
   ]
  },
  {
   "cell_type": "markdown",
   "metadata": {},
   "source": [
    "# Creating vector store for RAG with HuggingFace questions"
   ]
  },
  {
   "cell_type": "code",
   "execution_count": 3,
   "metadata": {
    "execution": {
     "iopub.execute_input": "2025-08-22T21:36:50.703864Z",
     "iopub.status.busy": "2025-08-22T21:36:50.703559Z",
     "iopub.status.idle": "2025-08-22T21:37:15.035191Z",
     "shell.execute_reply": "2025-08-22T21:37:15.034160Z",
     "shell.execute_reply.started": "2025-08-22T21:36:50.703839Z"
    }
   },
   "outputs": [],
   "source": [
    "from langchain_openai import OpenAIEmbeddings\n",
    "from langchain_qdrant import QdrantVectorStore\n",
    "from qdrant_client import QdrantClient\n",
    "from langchain.document_loaders import HuggingFaceDatasetLoader\n",
    "from langchain.text_splitter import RecursiveCharacterTextSplitter\n",
    "\n",
    "def preprocess_dataset(docs_list):\n",
    "    text_splitter = RecursiveCharacterTextSplitter.from_tiktoken_encoder(\n",
    "        chunk_size=700,\n",
    "        chunk_overlap=50,\n",
    "        disallowed_special=()\n",
    "    )\n",
    "    doc_splits = text_splitter.split_documents(docs_list)\n",
    "    return doc_splits\n",
    "# https://huggingface.co/datasets/m-ric/transformers_documentation_en\n",
    "transformers_doc = HuggingFaceDatasetLoader(\"m-ric/transformers_documentation_en\", \"text\")\n",
    "docs = preprocess_dataset(transformers_doc.load()[:50])\n",
    "\n",
    "vectorstore = QdrantVectorStore.from_documents(\n",
    "    docs,\n",
    "    OpenAIEmbeddings(model=os.environ[\"EMBEDDING_MODEL\"]),\n",
    "    location=\":memory:\",\n",
    "    collection_name=\"documentations\",\n",
    ")\n",
    "retriever = vectorstore.as_retriever()"
   ]
  },
  {
   "cell_type": "code",
   "execution_count": 4,
   "metadata": {
    "execution": {
     "iopub.execute_input": "2025-08-22T21:39:57.525645Z",
     "iopub.status.busy": "2025-08-22T21:39:57.525203Z",
     "iopub.status.idle": "2025-08-22T21:39:57.532610Z",
     "shell.execute_reply": "2025-08-22T21:39:57.531860Z",
     "shell.execute_reply.started": "2025-08-22T21:39:57.525620Z"
    }
   },
   "outputs": [],
   "source": [
    "from langsmith import Client\n",
    "\n",
    "example_inputs = [\n",
    "    (\"How do I upload a model to the Hugging Face Hub?\", \"To upload a model to the Hugging Face Hub, first install the huggingface_hub library with `pip install huggingface_hub`. Then, use the `login` function with your auth token: `huggingface_hub.login()`. Next, create a model repository with `create_repo()` and use `push_to_hub()` from the appropriate model class. For Transformers models, most model classes have the `push_to_hub()` method built-in. For custom models, you can use `huggingface_hub.upload_file()` or `huggingface_hub.upload_folder()` to upload your model files.\"),\n",
    "\n",
    "    (\"What is the Hugging Face Hub?\", \"The Hugging Face Hub is a platform for sharing and discovering machine learning models, datasets, and demo applications. It serves as a central repository where users can freely access thousands of pre-trained models across various domains like NLP, computer vision, and audio processing. The Hub enables version control for machine learning assets, provides model documentation through model cards, offers a collaborative environment for the AI community, and integrates seamlessly with popular ML frameworks like PyTorch and TensorFlow.\"),\n",
    "\n",
    "    (\"How do I fine-tune a pre-trained model from Hugging Face?\", \"To fine-tune a pre-trained model from Hugging Face, first install the transformers library with `pip install transformers`. Next, load the pre-trained model and tokenizer using `from_pretrained()`. Prepare your dataset and process it with the tokenizer. Then, initialize a `Trainer` object with your model, training arguments, and datasets. Finally, call `trainer.train()` to start fine-tuning. You can also use the `SFTTrainer` from TRL library for more specialized supervised fine-tuning, especially for language models. After training, save your model with `save_pretrained()` or push it to the Hub with `push_to_hub()`.\"),\n",
    "\n",
    "    (\"How do I use Accelerate for distributed training with Hugging Face?\", \"To use Accelerate for distributed training with Hugging Face, start by installing it with `pip install accelerate`. Initialize your model, optimizer, and dataloaders normally. Wrap them with Accelerate by creating an accelerator object (`accelerator = Accelerate()`) and then using `model, optimizer, train_dataloader, eval_dataloader = accelerator.prepare(model, optimizer, train_dataloader, eval_dataloader)`. Write your training loop as usual, but use `accelerator.backward(loss)` instead of `loss.backward()`. Accelerate automatically handles device placement, gradient synchronization, and mixed precision training across multiple GPUs or TPUs. You can launch distributed training with the `accelerate launch` command.\"),\n",
    "\n",
    "    (\"What is the difference between Tokenizers and Transformers libraries?\", \"The Tokenizers library is specialized for fast text tokenization, focusing on performance and customization of the tokenization process. It provides implementations of popular tokenization algorithms with a Rust backend for speed. The Transformers library, on the other hand, is a comprehensive framework for using pre-trained transformer models, including loading, fine-tuning, and inference with models like BERT, GPT, T5, etc. While Transformers includes tokenization capabilities, the dedicated Tokenizers library offers more advanced features like parallel processing, memory mapping, and customizable components (normalizers, pre-tokenizers, etc.) for building specialized tokenization pipelines.\"),\n",
    "\n",
    "    (\"How do I create a custom dataset with the Datasets library?\", \"To create a custom dataset with the Hugging Face Datasets library, you have several options. For local files, use `load_dataset('csv', data_files='path/to/file.csv')` or similar functions based on your file format. For custom data structures, create a dictionary of lists with `Dataset.from_dict({'text': [...], 'label': [...]})`. For more complex scenarios, define a generator function that yields examples and use `Dataset.from_generator(generator_function)`. You can also create a dataset script by defining `_info()`, `_split_generators()`, and `_generate_examples()` functions, and then placing it in the Datasets library's scripts directory or passing it directly to `load_dataset()`. After creation, you can save your dataset locally with `dataset.save_to_disk()` or share it on the Hub with `dataset.push_to_hub()`.\"),\n",
    "\n",
    "    (\"How do I enable mixed precision training with Hugging Face?\", \"To enable mixed precision training with Hugging Face, you have multiple options. With the Trainer API, simply set `fp16=True` in your TrainingArguments: `training_args = TrainingArguments(fp16=True, ...)`. If using Accelerate, initialize it with `accelerator = Accelerate(mixed_precision='fp16')` or set the configuration via `accelerate config`. For manual training loops with PyTorch, you can use `torch.cuda.amp.autocast()` context manager around your forward pass and scale gradients with `torch.cuda.amp.GradScaler()`. Alternatively, for even easier setup with any training loop, use the `deepspeed` integration by specifying a DeepSpeed config file in your TrainingArguments or Accelerate setup.\"),\n",
    "\n",
    "    (\"What is a model card and how do I create one?\", \"A model card is a documentation file providing essential information about a machine learning model, including its intended use, limitations, training data, evaluation results, and ethical considerations. To create a model card on Hugging Face Hub, create a README.md file in your model repository with structured information following the model card template. Include sections like Model Description, Intended Uses, Training Data, Evaluation Results, Limitations, and Bias and Fairness considerations. You can use the `modelcards` library with `pip install modelcards` to programmatically create model cards using Python. The card should help users understand when and how to use your model appropriately, along with its performance characteristics and potential risks.\"),\n",
    "\n",
    "    (\"How do I use PEFT for efficient fine-tuning?\", \"To use PEFT (Parameter-Efficient Fine-Tuning) with Hugging Face, first install the library with `pip install peft`. Load your pre-trained model with `model = AutoModelForCausalLM.from_pretrained(\\\"model_name\\\")`. Configure your PEFT method by creating a configuration, such as `config = LoraConfig(...)` for LoRA fine-tuning. Wrap your model with the PEFT wrapper using `model = get_peft_model(model, config)`. Then proceed with training as usual, either with the Trainer API or your custom training loop. PEFT supports multiple efficient fine-tuning methods including LoRA, QLoRA, Prefix Tuning, P-Tuning, and Prompt Tuning, allowing you to fine-tune large models with significantly reduced memory requirements by training only a small subset of parameters.\"),\n",
    "\n",
    "    (\"How do I quantize a model with bitsandbytes in Hugging Face?\", \"To quantize a model with bitsandbytes in Hugging Face, first install the bitsandbytes library with `pip install bitsandbytes`. Then, when loading your model with the `from_pretrained()` method, specify the quantization parameters by adding `load_in_8bit=True` or `load_in_4bit=True` arguments, along with other options like `llm_int8_threshold` or `bnb_4bit_compute_dtype`. For example: `model = AutoModelForCausalLM.from_pretrained(\\\"model_name\\\", load_in_4bit=True, bnb_4bit_quant_type=\\\"nf4\\\")`. This allows loading large models with significantly reduced memory usage. For more advanced quantization configurations, you can use `BitsAndBytesConfig` to specify detailed parameters like: `model = AutoModelForCausalLM.from_pretrained(\\\"model_name\\\", quantization_config=BitsAndBytesConfig(load_in_4bit=True))`.\"),\n",
    "\n",
    "    (\"How do I create a Gradio demo for my Hugging Face model?\", \"To create a Gradio demo for your Hugging Face model, first install Gradio with `pip install gradio`. Load your model and tokenizer with the Transformers library. Define a prediction function that takes user inputs, processes them with your model, and returns the results. Then use Gradio's interface creation functions to build your UI, connecting your prediction function to appropriate input and output components. For example, `demo = gr.Interface(fn=predict, inputs=\\\"text\\\", outputs=\\\"text\\\")`. Finally, launch your demo with `demo.launch()`. You can customize the interface with various input types (text, image, audio), output visualizations, examples, and styling options. To deploy on Hugging Face Spaces, create a Space on the Hub, add your demo code in an app.py file, and include requirements.txt with necessary dependencies.\"),\n",
    "]\n"
   ]
  },
  {
   "cell_type": "markdown",
   "metadata": {},
   "source": [
    "## TODO: create correct keys and get it from UI with "
   ]
  },
  {
   "cell_type": "code",
   "execution_count": 5,
   "metadata": {
    "execution": {
     "iopub.execute_input": "2025-08-22T21:40:32.788950Z",
     "iopub.status.busy": "2025-08-22T21:40:32.788633Z",
     "iopub.status.idle": "2025-08-22T21:40:33.383998Z",
     "shell.execute_reply": "2025-08-22T21:40:33.383208Z",
     "shell.execute_reply.started": "2025-08-22T21:40:32.788926Z"
    }
   },
   "outputs": [
    {
     "data": {
      "text/plain": [
       "{'example_ids': ['a954e542-2241-441a-b1b6-1279be49f35d',\n",
       "  '4d63d801-e8ef-49d4-9dd6-bf2a0ec71620',\n",
       "  'd8ee81da-d760-4c62-a409-ea3eb0de6712',\n",
       "  '9d61716c-75f3-4d90-b5ae-aebfa7963e73',\n",
       "  '3f5d1f82-4f06-41ca-be0e-878d8b4c8cd1',\n",
       "  '89fbafec-0742-4097-95ce-c5cd17dd4e3e',\n",
       "  '6b4ba4b8-014e-4ba7-ba6e-edf750d5d4b8',\n",
       "  '5a231bb5-f6aa-4683-b686-24875b31ec76',\n",
       "  '270c84ad-5f0f-47b3-9cd5-a21b51eeddc5',\n",
       "  '3b391265-d8d3-415e-af16-601415094470',\n",
       "  'cca52208-505a-41bf-8e9e-fc1546e1ed00'],\n",
       " 'count': 11}"
      ]
     },
     "execution_count": 5,
     "metadata": {},
     "output_type": "execute_result"
    }
   ],
   "source": [
    "client = Client()\n",
    "dataset_id = \"e022554a-73eb-45cb-a357-c9ebc90c5901\"\n",
    "\n",
    "# Prepare inputs and outputs for bulk creation\n",
    "inputs = [{\"question\": input_prompt} for input_prompt, _ in example_inputs]\n",
    "outputs = [{\"output\": output_answer} for _, output_answer in example_inputs]\n",
    "\n",
    "client.create_examples(\n",
    "  inputs=inputs,\n",
    "  outputs=outputs,\n",
    "  dataset_id=dataset_id,\n",
    ")"
   ]
  },
  {
   "cell_type": "markdown",
   "metadata": {},
   "source": [
    "# How to add a Live trace to our new dataset"
   ]
  },
  {
   "cell_type": "code",
   "execution_count": 6,
   "metadata": {
    "execution": {
     "iopub.execute_input": "2025-08-22T21:41:51.382215Z",
     "iopub.status.busy": "2025-08-22T21:41:51.381505Z",
     "iopub.status.idle": "2025-08-22T21:41:51.399980Z",
     "shell.execute_reply": "2025-08-22T21:41:51.399237Z",
     "shell.execute_reply.started": "2025-08-22T21:41:51.382191Z"
    }
   },
   "outputs": [],
   "source": [
    "from langsmith import traceable\n",
    "from openai import OpenAI\n",
    "from typing import List\n",
    "\n",
    "openai_client = OpenAI()\n",
    "\n",
    "@traceable(run_type=\"chain\")\n",
    "def retrieve_documents(question: str):\n",
    "    return retriever.invoke(question)\n",
    "\n",
    "@traceable(run_type=\"chain\")\n",
    "def generate_response(question: str, documents):\n",
    "    formatted_docs = \"\\n\\n\".join(doc.page_content for doc in documents)\n",
    "    rag_system_prompt = \"\"\"You are an assistant for question-answering tasks. \n",
    "    Use the following pieces of retrieved context to answer the latest question in the conversation. \n",
    "    If you don't know the answer, just say that you don't know. \n",
    "    Use three sentences maximum and keep the answer concise.\n",
    "    \"\"\"\n",
    "    messages = [\n",
    "        {\n",
    "            \"role\": \"system\",\n",
    "            \"content\": rag_system_prompt\n",
    "        },\n",
    "        {\n",
    "            \"role\": \"user\",\n",
    "            \"content\": f\"Context: {formatted_docs} \\n\\n Question: {question}\"\n",
    "        }\n",
    "    ]\n",
    "    return call_openai(messages)\n",
    "\n",
    "@traceable(run_type=\"llm\")\n",
    "def call_openai(\n",
    "    messages: List[dict], model: str = os.environ[\"OPENAI_MODEL\"], temperature: float = 0.0\n",
    ") -> str:\n",
    "    return openai_client.chat.completions.create(\n",
    "        model=model,\n",
    "        messages=messages,\n",
    "        temperature=temperature,\n",
    "    )\n",
    "\n",
    "@traceable(run_type=\"chain\")\n",
    "def langsmith_rag(question: str):\n",
    "    documents = retrieve_documents(question)\n",
    "    response = generate_response(question, documents)\n",
    "    return response.choices[0].message.content\n"
   ]
  },
  {
   "cell_type": "code",
   "execution_count": 7,
   "metadata": {
    "execution": {
     "iopub.execute_input": "2025-08-22T21:41:52.352849Z",
     "iopub.status.busy": "2025-08-22T21:41:52.352332Z",
     "iopub.status.idle": "2025-08-22T21:41:56.928583Z",
     "shell.execute_reply": "2025-08-22T21:41:56.927747Z",
     "shell.execute_reply.started": "2025-08-22T21:41:52.352825Z"
    }
   },
   "outputs": [
    {
     "data": {
      "text/plain": [
       "\"Hugging Face's Accelerate is a library designed to simplify the process of training models in a distributed environment, whether on multiple GPUs in one machine or across several machines. To use it, you need to install the library, create an `Accelerator` object, and prepare your training objects (like DataLoaders, model, and optimizer) using the `accelerator.prepare` method. Additionally, replace the standard `loss.backward()` call in your training loop with `accelerator.backward(loss)` to enable distributed training.\""
      ]
     },
     "execution_count": 7,
     "metadata": {},
     "output_type": "execute_result"
    }
   ],
   "source": [
    "question = \"What is Hugging accelerator and how do I use it?\"\n",
    "langsmith_rag(question)"
   ]
  },
  {
   "cell_type": "code",
   "execution_count": null,
   "metadata": {},
   "outputs": [],
   "source": []
  }
 ],
 "metadata": {
  "kernelspec": {
   "display_name": "Python 3 (ipykernel)",
   "language": "python",
   "name": "python3"
  },
  "language_info": {
   "codemirror_mode": {
    "name": "ipython",
    "version": 3
   },
   "file_extension": ".py",
   "mimetype": "text/x-python",
   "name": "python",
   "nbconvert_exporter": "python",
   "pygments_lexer": "ipython3",
   "version": "3.12.9"
  }
 },
 "nbformat": 4,
 "nbformat_minor": 4
}
