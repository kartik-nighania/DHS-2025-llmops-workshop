{
 "cells": [
  {
   "cell_type": "code",
   "execution_count": 1,
   "metadata": {
    "execution": {
     "iopub.execute_input": "2025-08-22T21:43:44.923217Z",
     "iopub.status.busy": "2025-08-22T21:43:44.922392Z",
     "iopub.status.idle": "2025-08-22T21:43:44.932892Z",
     "shell.execute_reply": "2025-08-22T21:43:44.932064Z",
     "shell.execute_reply.started": "2025-08-22T21:43:44.923184Z"
    }
   },
   "outputs": [
    {
     "name": "stdout",
     "output_type": "stream",
     "text": [
      "True\n",
      "agentic-ops\n"
     ]
    }
   ],
   "source": [
    "from dotenv import load_dotenv\n",
    "import os\n",
    "print(load_dotenv('../.env'))\n",
    "print(os.environ['LANGSMITH_PROJECT'])\n",
    "os.environ['LANGSMITH_TRACING']=\"true\"\n",
    "os.environ['USER_AGENT'] = 'myagent'"
   ]
  },
  {
   "cell_type": "markdown",
   "metadata": {},
   "source": [
    "## Custom evaluator "
   ]
  },
  {
   "cell_type": "code",
   "execution_count": 2,
   "metadata": {
    "execution": {
     "iopub.execute_input": "2025-08-22T21:44:07.340533Z",
     "iopub.status.busy": "2025-08-22T21:44:07.339875Z",
     "iopub.status.idle": "2025-08-22T21:44:07.345115Z",
     "shell.execute_reply": "2025-08-22T21:44:07.344396Z",
     "shell.execute_reply.started": "2025-08-22T21:44:07.340495Z"
    }
   },
   "outputs": [],
   "source": [
    "def correct_label(inputs: dict, reference_outputs: dict, outputs: dict) -> dict:\n",
    "  score = outputs.get(\"output\") == reference_outputs.get(\"label\")\n",
    "  return {\"score\": int(score), \"key\": \"correct_label\"}"
   ]
  },
  {
   "cell_type": "markdown",
   "metadata": {},
   "source": [
    "## LLM-as-Judge Evaluation"
   ]
  },
  {
   "cell_type": "code",
   "execution_count": 5,
   "metadata": {
    "execution": {
     "iopub.execute_input": "2025-08-22T21:45:48.637752Z",
     "iopub.status.busy": "2025-08-22T21:45:48.637334Z",
     "iopub.status.idle": "2025-08-22T21:45:49.314465Z",
     "shell.execute_reply": "2025-08-22T21:45:49.313233Z",
     "shell.execute_reply.started": "2025-08-22T21:45:48.637725Z"
    }
   },
   "outputs": [],
   "source": [
    "from openai import OpenAI\n",
    "from pydantic import BaseModel, Field\n",
    "\n",
    "client = OpenAI()\n",
    "\n",
    "class Similarity_Score(BaseModel):\n",
    "    similarity_score: int = Field(description=\"Semantic similarity score between 1 and 10, where 1 means unrelated and 10 means identical.\")\n",
    "\n",
    "# NOTE: This is our evaluator\n",
    "def compare_semantic_similarity(inputs: dict, reference_outputs: dict, outputs: dict):\n",
    "    input_question = inputs[\"question\"]\n",
    "    reference_response = reference_outputs[\"output\"]\n",
    "    run_response = outputs[\"output\"]\n",
    "    \n",
    "    completion = client.beta.chat.completions.parse(\n",
    "        model=os.environ[\"OPENAI_MODEL\"],\n",
    "        messages=[\n",
    "            {   \n",
    "                \"role\": \"system\",\n",
    "                \"content\": (\n",
    "                    \"You are a semantic similarity evaluator. Compare the meanings of two responses to a question, \"\n",
    "                    \"Reference Response and New Response, where the reference is the correct answer, and we are trying to judge if the new response is similar. \"\n",
    "                    \"Provide a score between 1 and 10, where 1 means completely unrelated, and 10 means identical in meaning.\"\n",
    "                ),\n",
    "            },\n",
    "            {\"role\": \"user\", \"content\": f\"Question: {input_question}\\n Reference Response: {reference_response}\\n Run Response: {run_response}\"}\n",
    "        ],\n",
    "        response_format=Similarity_Score,\n",
    "    )\n",
    "\n",
    "    similarity_score = completion.choices[0].message.parsed\n",
    "    return {\"score\": similarity_score.similarity_score, \"key\": \"similarity\"}\n"
   ]
  },
  {
   "cell_type": "code",
   "execution_count": 6,
   "metadata": {
    "execution": {
     "iopub.execute_input": "2025-08-22T21:46:12.964620Z",
     "iopub.status.busy": "2025-08-22T21:46:12.964214Z",
     "iopub.status.idle": "2025-08-22T21:46:14.448213Z",
     "shell.execute_reply": "2025-08-22T21:46:14.447477Z",
     "shell.execute_reply.started": "2025-08-22T21:46:12.964502Z"
    }
   },
   "outputs": [
    {
     "name": "stdout",
     "output_type": "stream",
     "text": [
      "Semantic similarity score: {'score': 1, 'key': 'similarity'}\n"
     ]
    }
   ],
   "source": [
    "inputs = {\n",
    "  \"question\": \"Is huggingface an ML library ?\"\n",
    "}\n",
    "reference_outputs = {\n",
    "  \"output\": \"No!!, its a rover name from NASA. Nothing to do with AI \"\n",
    "}\n",
    "\n",
    "\n",
    "# From Run\n",
    "outputs = {\n",
    "  \"output\": \"Yes, huggingface is one of the best AI/LLM library out there and is opensourced !.\"\n",
    "}\n",
    "\n",
    "similarity_score = compare_semantic_similarity(inputs, reference_outputs, outputs)\n",
    "print(f\"Semantic similarity score: {similarity_score}\")"
   ]
  },
  {
   "cell_type": "markdown",
   "metadata": {},
   "source": [
    "```\n",
    "system\n",
    "\n",
    "\n",
    " \"You are a semantic similarity evaluator. Compare the meanings of two responses to a question, \"\n",
    "\n",
    "  \"Reference Response and New Response, where the reference is the correct answer, and we are trying to judge if the new response is similar. \"\n",
    "\n",
    "\"Provide a score between 1 and 10, where 1 means completely unrelated, and 10 means identical in meaning.\"\n",
    "\n",
    "\n",
    "Human\n",
    "Please grade the following example according to the above instructions:\n",
    "\n",
    "<example>\n",
    "<input>\n",
    "{{input}}\n",
    "</input>\n",
    "\n",
    "<output>\n",
    "{{output.output}}⁠\n",
    "</output>\n",
    "\n",
    "<reference_outputs>\n",
    "{{reference}}\n",
    "</reference_outputs>\n",
    "</example>\n",
    "```"
   ]
  },
  {
   "cell_type": "markdown",
   "metadata": {},
   "source": [
    "# DEMO Use all the above to create in UI using LLM as a judge\n",
    "## Then use it in Playground to test with different prompts"
   ]
  },
  {
   "cell_type": "code",
   "execution_count": null,
   "metadata": {},
   "outputs": [],
   "source": []
  }
 ],
 "metadata": {
  "kernelspec": {
   "display_name": "Python 3 (ipykernel)",
   "language": "python",
   "name": "python3"
  },
  "language_info": {
   "codemirror_mode": {
    "name": "ipython",
    "version": 3
   },
   "file_extension": ".py",
   "mimetype": "text/x-python",
   "name": "python",
   "nbconvert_exporter": "python",
   "pygments_lexer": "ipython3",
   "version": "3.12.9"
  }
 },
 "nbformat": 4,
 "nbformat_minor": 4
}
